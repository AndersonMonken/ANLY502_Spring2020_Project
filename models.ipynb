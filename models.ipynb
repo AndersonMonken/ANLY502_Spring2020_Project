{
 "cells": [
  {
   "cell_type": "markdown",
   "metadata": {},
   "source": [
    "### Importing packages and starting spark context"
   ]
  },
  {
   "cell_type": "code",
   "execution_count": 1,
   "metadata": {},
   "outputs": [],
   "source": [
    "# import packages\n",
    "import findspark\n",
    "import os\n",
    "import pickle\n",
    "findspark.init()\n",
    "import pyspark\n",
    "from pyspark.sql import SparkSession\n",
    "from pyspark.sql.functions import col , column\n",
    "from pyspark import SparkContext"
   ]
  },
  {
   "cell_type": "code",
   "execution_count": 2,
   "metadata": {},
   "outputs": [],
   "source": [
    "from pyspark.ml.feature import OneHotEncoder, StringIndexer, IndexToString, VectorAssembler\n",
    "from pyspark.ml.classification import RandomForestClassifier\n",
    "from pyspark.ml.regression import LinearRegression, RandomForestRegressor, GBTRegressor\n",
    "from pyspark.ml.evaluation import MulticlassClassificationEvaluator, RegressionEvaluator\n",
    "from pyspark.ml import Pipeline, Model\n",
    "\n",
    "#from pyspark.ml.feature import VectorIndexer"
   ]
  },
  {
   "cell_type": "code",
   "execution_count": 3,
   "metadata": {},
   "outputs": [],
   "source": [
    "spark = SparkSession.builder \\\n",
    "     .appName(\"model-data\") \\\n",
    "     .getOrCreate()\n",
    "sc = spark.sparkContext"
   ]
  },
  {
   "cell_type": "markdown",
   "metadata": {},
   "source": [
    "### Importing data and splitting into train/test sets"
   ]
  },
  {
   "cell_type": "code",
   "execution_count": 4,
   "metadata": {},
   "outputs": [],
   "source": [
    "data_pandas = pickle.load(open('merged_data.pkl','rb'))\n",
    "data_pandas.columns = [x.replace('.','_') for x in data_pandas.columns]\n",
    "#data_pandas = data_pandas[data_pandas['Year'] == 2013]"
   ]
  },
  {
   "cell_type": "code",
   "execution_count": 5,
   "metadata": {},
   "outputs": [],
   "source": [
    "sqlCtx = pyspark.SQLContext(sc)"
   ]
  },
  {
   "cell_type": "code",
   "execution_count": 6,
   "metadata": {},
   "outputs": [
    {
     "name": "stderr",
     "output_type": "stream",
     "text": [
      "/usr/lib/spark/python/pyspark/sql/session.py:714: UserWarning: createDataFrame attempted Arrow optimization because 'spark.sql.execution.arrow.enabled' is set to true; however, failed by the reason below:\n",
      "  An error occurred while calling z:org.apache.spark.sql.api.python.PythonSQLUtils.readArrowStreamFromFile.\n",
      ": java.lang.IllegalArgumentException\n",
      "\tat java.nio.ByteBuffer.allocate(ByteBuffer.java:334)\n",
      "\tat org.apache.arrow.vector.ipc.message.MessageSerializer.readMessage(MessageSerializer.java:547)\n",
      "\tat org.apache.spark.sql.execution.arrow.ArrowConverters$$anon$3.readNextBatch(ArrowConverters.scala:243)\n",
      "\tat org.apache.spark.sql.execution.arrow.ArrowConverters$$anon$3.<init>(ArrowConverters.scala:229)\n",
      "\tat org.apache.spark.sql.execution.arrow.ArrowConverters$.getBatchesFromStream(ArrowConverters.scala:228)\n",
      "\tat org.apache.spark.sql.execution.arrow.ArrowConverters$$anonfun$readArrowStreamFromFile$2.apply(ArrowConverters.scala:216)\n",
      "\tat org.apache.spark.sql.execution.arrow.ArrowConverters$$anonfun$readArrowStreamFromFile$2.apply(ArrowConverters.scala:214)\n",
      "\tat org.apache.spark.util.Utils$.tryWithResource(Utils.scala:2574)\n",
      "\tat org.apache.spark.sql.execution.arrow.ArrowConverters$.readArrowStreamFromFile(ArrowConverters.scala:214)\n",
      "\tat org.apache.spark.sql.api.python.PythonSQLUtils$.readArrowStreamFromFile(PythonSQLUtils.scala:46)\n",
      "\tat org.apache.spark.sql.api.python.PythonSQLUtils.readArrowStreamFromFile(PythonSQLUtils.scala)\n",
      "\tat sun.reflect.NativeMethodAccessorImpl.invoke0(Native Method)\n",
      "\tat sun.reflect.NativeMethodAccessorImpl.invoke(NativeMethodAccessorImpl.java:62)\n",
      "\tat sun.reflect.DelegatingMethodAccessorImpl.invoke(DelegatingMethodAccessorImpl.java:43)\n",
      "\tat java.lang.reflect.Method.invoke(Method.java:498)\n",
      "\tat py4j.reflection.MethodInvoker.invoke(MethodInvoker.java:244)\n",
      "\tat py4j.reflection.ReflectionEngine.invoke(ReflectionEngine.java:357)\n",
      "\tat py4j.Gateway.invoke(Gateway.java:282)\n",
      "\tat py4j.commands.AbstractCommand.invokeMethod(AbstractCommand.java:132)\n",
      "\tat py4j.commands.CallCommand.execute(CallCommand.java:79)\n",
      "\tat py4j.GatewayConnection.run(GatewayConnection.java:238)\n",
      "\tat java.lang.Thread.run(Thread.java:748)\n",
      "\n",
      "Attempting non-optimization as 'spark.sql.execution.arrow.fallback.enabled' is set to true.\n",
      "  warnings.warn(msg)\n"
     ]
    }
   ],
   "source": [
    "data = sqlCtx.createDataFrame(data_pandas).rdd"
   ]
  },
  {
   "cell_type": "code",
   "execution_count": 7,
   "metadata": {},
   "outputs": [
    {
     "data": {
      "text/plain": [
       "Row(Country='Albania', Year=1994, Max_Partners=75, GDP_per_unit_CO2=5.542105, PPP_Conv_Rate=26.714, PPP_Share_GDP=0.023, Imports_PC=0.0, Exports_PC=0.0, Govt_Revenue=-6.4239999999999995, gdp_per_cap=1493.7902013673001, agri_perc_gdp=36.4107030664902, agg_empl_agri_perc=54.840999603271506, rural_pop_perc=61.646, pop_tot=3207536.0, mobilesub_per100peeps=0.0, intl_tourist_arrival=1062000.0, total_life_exp=71.992, life_expectancy_fe=75.158, life_exp_male=69.15, trade_perGDP=53.1025847356112, ISO_A3='ALB', cam='F121994', mean_light=0.8159073253210255, mean_light_diff=0.5516382580084997)"
      ]
     },
     "execution_count": 7,
     "metadata": {},
     "output_type": "execute_result"
    }
   ],
   "source": [
    "data.first()"
   ]
  },
  {
   "cell_type": "code",
   "execution_count": 8,
   "metadata": {},
   "outputs": [],
   "source": [
    "# Split the data into training and test sets (30% held out for testing)\n",
    "df_train, df_test = data.randomSplit([0.75,0.25], 5242)"
   ]
  },
  {
   "cell_type": "markdown",
   "metadata": {},
   "source": [
    "### Model 1\n",
    "Linear regression with many predictors"
   ]
  },
  {
   "cell_type": "code",
   "execution_count": 9,
   "metadata": {},
   "outputs": [],
   "source": [
    "vecAssembler = VectorAssembler(inputCols=[\"GDP_per_unit_CO2\", \n",
    "                                          \"Imports_PC\", \n",
    "                                          \"Exports_PC\", \n",
    "                                          \"Govt_Revenue\",\n",
    "                                         \"agri_perc_gdp\",\n",
    "                                         \"mean_light\",\n",
    "                                         \"intl_tourist_arrival\",\n",
    "                                         \"mobilesub_per100peeps\",\n",
    "                                         \"total_life_exp\",\n",
    "                                         \"pop_tot\",\n",
    "                                         \"Year\"], \n",
    "                               outputCol=\"features\")"
   ]
  },
  {
   "cell_type": "code",
   "execution_count": 10,
   "metadata": {},
   "outputs": [
    {
     "name": "stdout",
     "output_type": "stream",
     "text": [
      "+-----------------+------------------+--------------------+\n",
      "|       prediction|       gdp_per_cap|            features|\n",
      "+-----------------+------------------+--------------------+\n",
      "| 6793.08603833802|1493.7902013673001|[5.542105,0.0,0.0...|\n",
      "|6649.516431187745|1869.8712552067498|[7.47721,-4.94372...|\n",
      "|7245.683225839399|  2085.43199967837|[5.217429,38.743,...|\n",
      "|6125.136547465809|  2244.63109245948|[5.288641,-3.432,...|\n",
      "|7887.005368274171|  2453.63147595272|[5.476603,23.272,...|\n",
      "+-----------------+------------------+--------------------+\n",
      "only showing top 5 rows\n",
      "\n",
      "Root Mean Squared Error (RMSE) on test data = 14178.7\n",
      "LinearRegression_7072f3df54a0\n"
     ]
    }
   ],
   "source": [
    "# Train a linear regression model\n",
    "lr = LinearRegression(maxIter=10, regParam=0.3, elasticNetParam=0.8, labelCol=\"gdp_per_cap\", featuresCol=\"features\")\n",
    "\n",
    "# Chain indexer and forest in a Pipeline\n",
    "pipeline = Pipeline(stages=[vecAssembler, lr])\n",
    "                            \n",
    "# Train model.  This also runs the indexer.\n",
    "model = pipeline.fit(df_train.toDF())\n",
    "\n",
    "# Make predictions.\n",
    "predictions = model.transform(df_test.toDF())\n",
    "\n",
    "# Select example rows to display.\n",
    "predictions.select(\"prediction\", \"gdp_per_cap\", \"features\").show(5)\n",
    "                            \n",
    "# Select (prediction, true label) and compute test error\n",
    "evaluator = RegressionEvaluator(\n",
    "    labelCol=\"gdp_per_cap\", predictionCol=\"prediction\", metricName=\"rmse\")\n",
    "rmse = evaluator.evaluate(predictions)\n",
    "print(\"Root Mean Squared Error (RMSE) on test data = %g\" % rmse)\n",
    "\n",
    "lrModel = model.stages[1]\n",
    "print(lrModel)  # summary only"
   ]
  },
  {
   "cell_type": "markdown",
   "metadata": {},
   "source": [
    "### Model 2\n",
    "Random Forest with many predictors"
   ]
  },
  {
   "cell_type": "code",
   "execution_count": 11,
   "metadata": {},
   "outputs": [],
   "source": [
    "vecAssembler = VectorAssembler(inputCols=[\"GDP_per_unit_CO2\", \n",
    "                                          \"Imports_PC\", \n",
    "                                          \"Exports_PC\", \n",
    "                                          \"Govt_Revenue\",\n",
    "                                         \"agri_perc_gdp\",\n",
    "                                         \"mean_light\",\n",
    "                                         \"intl_tourist_arrival\",\n",
    "                                         \"mobilesub_per100peeps\",\n",
    "                                         \"total_life_exp\",\n",
    "                                         \"pop_tot\",\n",
    "                                         \"Year\"], \n",
    "                               outputCol=\"features\")"
   ]
  },
  {
   "cell_type": "code",
   "execution_count": 12,
   "metadata": {},
   "outputs": [
    {
     "name": "stdout",
     "output_type": "stream",
     "text": [
      "+------------------+------------------+--------------------+\n",
      "|        prediction|       gdp_per_cap|            features|\n",
      "+------------------+------------------+--------------------+\n",
      "| 3115.043094636579|1493.7902013673001|[5.542105,0.0,0.0...|\n",
      "|3032.3601009110816|1869.8712552067498|[7.47721,-4.94372...|\n",
      "|  3188.33139315203|  2085.43199967837|[5.217429,38.743,...|\n",
      "|  3188.33139315203|  2244.63109245948|[5.288641,-3.432,...|\n",
      "|3268.4987165458724|  2453.63147595272|[5.476603,23.272,...|\n",
      "+------------------+------------------+--------------------+\n",
      "only showing top 5 rows\n",
      "\n",
      "Root Mean Squared Error (RMSE) on test data = 5675.03\n",
      "RandomForestRegressionModel (uid=RandomForestRegressor_2507e40730a4) with 20 trees\n"
     ]
    }
   ],
   "source": [
    "# Train a RandomForest model\n",
    "rf = RandomForestRegressor(labelCol=\"gdp_per_cap\", featuresCol=\"features\")\n",
    "\n",
    "# Chain indexer and forest in a Pipeline\n",
    "pipeline = Pipeline(stages=[vecAssembler, rf])\n",
    "\n",
    "# Train model.  This also runs the indexer.\n",
    "model = pipeline.fit(df_train.toDF())\n",
    "\n",
    "# Make predictions.\n",
    "predictions = model.transform(df_test.toDF())\n",
    "\n",
    "# Select example rows to display.\n",
    "predictions.select(\"prediction\", \"gdp_per_cap\", \"features\").show(5)\n",
    "\n",
    "# Select (prediction, true label) and compute test error\n",
    "evaluator = RegressionEvaluator(\n",
    "    labelCol=\"gdp_per_cap\", predictionCol=\"prediction\", metricName=\"rmse\")\n",
    "rmse = evaluator.evaluate(predictions)\n",
    "print(\"Root Mean Squared Error (RMSE) on test data = %g\" % rmse)\n",
    "\n",
    "rfModel = model.stages[1]\n",
    "print(rfModel)  # summary only"
   ]
  },
  {
   "cell_type": "markdown",
   "metadata": {},
   "source": [
    "### Model 3\n",
    "Linear regression with only mean light and year as predictors"
   ]
  },
  {
   "cell_type": "code",
   "execution_count": 13,
   "metadata": {},
   "outputs": [],
   "source": [
    "vecAssembler = VectorAssembler(inputCols=[\"mean_light\",\"Year\"], \n",
    "                               outputCol=\"features\")"
   ]
  },
  {
   "cell_type": "code",
   "execution_count": 14,
   "metadata": {},
   "outputs": [
    {
     "name": "stdout",
     "output_type": "stream",
     "text": [
      "+------------------+------------------+--------------------+\n",
      "|        prediction|       gdp_per_cap|            features|\n",
      "+------------------+------------------+--------------------+\n",
      "|10191.756502234435|1493.7902013673001|[0.81590732532102...|\n",
      "|11178.062952535489|1869.8712552067498|[1.45642736370698...|\n",
      "|11037.505660530005|  2085.43199967837|[1.02403692363935...|\n",
      "| 12051.13618129256|  2244.63109245948|[1.79189325046840...|\n",
      "|12831.834547041944|  2453.63147595272|[2.35943426404057...|\n",
      "+------------------+------------------+--------------------+\n",
      "only showing top 5 rows\n",
      "\n",
      "Root Mean Squared Error (RMSE) on test data = 18560.3\n",
      "LinearRegression_4cfc1e5ec982\n"
     ]
    }
   ],
   "source": [
    "# Train a linear regression model\n",
    "lr = LinearRegression(maxIter=10, regParam=0.3, elasticNetParam=0.8, labelCol=\"gdp_per_cap\", featuresCol=\"features\")\n",
    "\n",
    "# Chain indexer and forest in a Pipeline\n",
    "pipeline = Pipeline(stages=[vecAssembler, lr])\n",
    "                            \n",
    "# Train model.  This also runs the indexer.\n",
    "model = pipeline.fit(df_train.toDF())\n",
    "\n",
    "# Make predictions.\n",
    "predictions = model.transform(df_test.toDF())\n",
    "\n",
    "# Select example rows to display.\n",
    "predictions.select(\"prediction\", \"gdp_per_cap\", \"features\").show(5)\n",
    "                            \n",
    "# Select (prediction, true label) and compute test error\n",
    "evaluator = RegressionEvaluator(\n",
    "    labelCol=\"gdp_per_cap\", predictionCol=\"prediction\", metricName=\"rmse\")\n",
    "rmse = evaluator.evaluate(predictions)\n",
    "print(\"Root Mean Squared Error (RMSE) on test data = %g\" % rmse)\n",
    "\n",
    "lrModel = model.stages[1]\n",
    "print(lrModel)  # summary only"
   ]
  },
  {
   "cell_type": "code",
   "execution_count": 15,
   "metadata": {},
   "outputs": [
    {
     "ename": "AttributeError",
     "evalue": "'PipelineModel' object has no attribute 'summary'",
     "output_type": "error",
     "traceback": [
      "\u001b[0;31m---------------------------------------------------------------------------\u001b[0m",
      "\u001b[0;31mAttributeError\u001b[0m                            Traceback (most recent call last)",
      "\u001b[0;32m<ipython-input-15-06e03d8e59a4>\u001b[0m in \u001b[0;36m<module>\u001b[0;34m\u001b[0m\n\u001b[0;32m----> 1\u001b[0;31m \u001b[0mtrainingSummary\u001b[0m \u001b[0;34m=\u001b[0m \u001b[0mmodel\u001b[0m\u001b[0;34m.\u001b[0m\u001b[0msummary\u001b[0m\u001b[0;34m\u001b[0m\u001b[0;34m\u001b[0m\u001b[0m\n\u001b[0m",
      "\u001b[0;31mAttributeError\u001b[0m: 'PipelineModel' object has no attribute 'summary'"
     ]
    }
   ],
   "source": [
    "trainingSummary = model.summary"
   ]
  },
  {
   "cell_type": "markdown",
   "metadata": {},
   "source": [
    "### Model 4\n",
    "Random Forest with only mean light and year as predictors"
   ]
  },
  {
   "cell_type": "code",
   "execution_count": 16,
   "metadata": {},
   "outputs": [],
   "source": [
    "vecAssembler = VectorAssembler(inputCols=[\"mean_light\",\"Year\"], \n",
    "                               outputCol=\"features\")"
   ]
  },
  {
   "cell_type": "code",
   "execution_count": 17,
   "metadata": {},
   "outputs": [
    {
     "name": "stdout",
     "output_type": "stream",
     "text": [
      "+------------------+------------------+--------------------+\n",
      "|        prediction|       gdp_per_cap|            features|\n",
      "+------------------+------------------+--------------------+\n",
      "|  8556.06500585829|1493.7902013673001|[0.81590732532102...|\n",
      "|7726.2937849379105|1869.8712552067498|[1.45642736370698...|\n",
      "| 8311.545749476265|  2085.43199967837|[1.02403692363935...|\n",
      "|   8146.2158511715|  2244.63109245948|[1.79189325046840...|\n",
      "| 8320.783025050743|  2453.63147595272|[2.35943426404057...|\n",
      "+------------------+------------------+--------------------+\n",
      "only showing top 5 rows\n",
      "\n",
      "Root Mean Squared Error (RMSE) on test data = 17651.8\n",
      "RandomForestRegressionModel (uid=RandomForestRegressor_f0a70994a3f7) with 20 trees\n"
     ]
    }
   ],
   "source": [
    "# Train a RandomForest model\n",
    "rf = RandomForestRegressor(labelCol=\"gdp_per_cap\", featuresCol=\"features\")\n",
    "\n",
    "# Chain indexer and forest in a Pipeline\n",
    "pipeline = Pipeline(stages=[vecAssembler, rf])\n",
    "\n",
    "# Train model.  This also runs the indexer.\n",
    "model = pipeline.fit(df_train.toDF())\n",
    "\n",
    "# Make predictions.\n",
    "predictions = model.transform(df_test.toDF())\n",
    "\n",
    "# Select example rows to display.\n",
    "predictions.select(\"prediction\", \"gdp_per_cap\", \"features\").show(5)\n",
    "\n",
    "# Select (prediction, true label) and compute test error\n",
    "evaluator = RegressionEvaluator(\n",
    "    labelCol=\"gdp_per_cap\", predictionCol=\"prediction\", metricName=\"rmse\")\n",
    "rmse = evaluator.evaluate(predictions)\n",
    "print(\"Root Mean Squared Error (RMSE) on test data = %g\" % rmse)\n",
    "\n",
    "rfModel = model.stages[1]\n",
    "print(rfModel)  # summary only"
   ]
  },
  {
   "cell_type": "markdown",
   "metadata": {},
   "source": [
    "### Model 5\n",
    "GBM with only mean light and year as predictors"
   ]
  },
  {
   "cell_type": "code",
   "execution_count": 18,
   "metadata": {},
   "outputs": [],
   "source": [
    "vecAssembler = VectorAssembler(inputCols=[\"mean_light\",\"Year\"], \n",
    "                               outputCol=\"features\")"
   ]
  },
  {
   "cell_type": "code",
   "execution_count": 19,
   "metadata": {},
   "outputs": [
    {
     "name": "stdout",
     "output_type": "stream",
     "text": [
      "+------------------+------------------+--------------------+\n",
      "|        prediction|       gdp_per_cap|            features|\n",
      "+------------------+------------------+--------------------+\n",
      "| 7176.535236975383|1493.7902013673001|[0.81590732532102...|\n",
      "| 6400.917916514489|1869.8712552067498|[1.45642736370698...|\n",
      "|5963.1827261712815|  2085.43199967837|[1.02403692363935...|\n",
      "| 6869.203020798838|  2244.63109245948|[1.79189325046840...|\n",
      "| 4606.107522968545|  2453.63147595272|[2.35943426404057...|\n",
      "+------------------+------------------+--------------------+\n",
      "only showing top 5 rows\n",
      "\n",
      "Root Mean Squared Error (RMSE) on test data = 18022.8\n",
      "GBTRegressionModel (uid=GBTRegressor_c34580b921f2) with 20 trees\n"
     ]
    }
   ],
   "source": [
    "# Train a GBT model\n",
    "gbt = GBTRegressor(labelCol=\"gdp_per_cap\", featuresCol=\"features\", maxIter=20)\n",
    "\n",
    "# Chain indexer and GBT in a Pipeline\n",
    "pipeline = Pipeline(stages=[vecAssembler, gbt])\n",
    "\n",
    "# Train model.  This also runs the indexer.\n",
    "model = pipeline.fit(df_train.toDF())\n",
    "\n",
    "# Make predictions.\n",
    "predictions = model.transform(df_test.toDF())\n",
    "\n",
    "# Select example rows to display.\n",
    "predictions.select(\"prediction\", \"gdp_per_cap\", \"features\").show(5)\n",
    "\n",
    "# Select (prediction, true label) and compute test error\n",
    "evaluator = RegressionEvaluator(\n",
    "    labelCol=\"gdp_per_cap\", predictionCol=\"prediction\", metricName=\"rmse\")\n",
    "rmse = evaluator.evaluate(predictions)\n",
    "print(\"Root Mean Squared Error (RMSE) on test data = %g\" % rmse)\n",
    "\n",
    "gbtModel = model.stages[1]\n",
    "print(gbtModel)  # summary only"
   ]
  }
 ],
 "metadata": {
  "kernelspec": {
   "display_name": "Python 3",
   "language": "python",
   "name": "python3"
  },
  "language_info": {
   "codemirror_mode": {
    "name": "ipython",
    "version": 3
   },
   "file_extension": ".py",
   "mimetype": "text/x-python",
   "name": "python",
   "nbconvert_exporter": "python",
   "pygments_lexer": "ipython3",
   "version": "3.7.3"
  }
 },
 "nbformat": 4,
 "nbformat_minor": 4
}
