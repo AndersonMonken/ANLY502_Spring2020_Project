{
 "cells": [
  {
   "cell_type": "markdown",
   "metadata": {},
   "source": [
    "### Importing packages and starting spark context"
   ]
  },
  {
   "cell_type": "code",
   "execution_count": 1,
   "metadata": {},
   "outputs": [],
   "source": [
    "# import packages\n",
    "import findspark\n",
    "import os\n",
    "import pickle\n",
    "findspark.init()\n",
    "import pyspark\n",
    "from pyspark.sql import SparkSession\n",
    "from pyspark.sql.functions import col , column\n",
    "from pyspark import SparkContext"
   ]
  },
  {
   "cell_type": "code",
   "execution_count": 2,
   "metadata": {},
   "outputs": [],
   "source": [
    "from pyspark.ml.feature import OneHotEncoder, StringIndexer, IndexToString, VectorAssembler\n",
    "from pyspark.ml.classification import RandomForestClassifier\n",
    "from pyspark.ml.regression import LinearRegression, RandomForestRegressor, GBTRegressor\n",
    "from pyspark.ml.evaluation import MulticlassClassificationEvaluator, RegressionEvaluator\n",
    "from pyspark.ml import Pipeline, Model\n",
    "\n",
    "#from pyspark.ml.feature import VectorIndexer"
   ]
  },
  {
   "cell_type": "code",
   "execution_count": 3,
   "metadata": {},
   "outputs": [],
   "source": [
    "spark = SparkSession.builder \\\n",
    "     .appName(\"model-data\") \\\n",
    "     .getOrCreate()\n",
    "sc = spark.sparkContext"
   ]
  },
  {
   "cell_type": "markdown",
   "metadata": {},
   "source": [
    "### Importing data and splitting into train/test sets"
   ]
  },
  {
   "cell_type": "code",
   "execution_count": 4,
   "metadata": {},
   "outputs": [],
   "source": [
    "data_pandas = pickle.load(open('merged_data.pkl','rb'))\n",
    "data_pandas.columns = [x.replace('.','_') for x in data_pandas.columns]\n",
    "#data_pandas = data_pandas[data_pandas['Year'] == 2013]"
   ]
  },
  {
   "cell_type": "code",
   "execution_count": 5,
   "metadata": {},
   "outputs": [],
   "source": [
    "sqlCtx = pyspark.SQLContext(sc)"
   ]
  },
  {
   "cell_type": "code",
   "execution_count": 6,
   "metadata": {},
   "outputs": [
    {
     "name": "stderr",
     "output_type": "stream",
     "text": [
      "/usr/lib/spark/python/pyspark/sql/session.py:714: UserWarning: createDataFrame attempted Arrow optimization because 'spark.sql.execution.arrow.enabled' is set to true; however, failed by the reason below:\n",
      "  An error occurred while calling z:org.apache.spark.sql.api.python.PythonSQLUtils.readArrowStreamFromFile.\n",
      ": java.lang.IllegalArgumentException\n",
      "\tat java.nio.ByteBuffer.allocate(ByteBuffer.java:334)\n",
      "\tat org.apache.arrow.vector.ipc.message.MessageSerializer.readMessage(MessageSerializer.java:547)\n",
      "\tat org.apache.spark.sql.execution.arrow.ArrowConverters$$anon$3.readNextBatch(ArrowConverters.scala:243)\n",
      "\tat org.apache.spark.sql.execution.arrow.ArrowConverters$$anon$3.<init>(ArrowConverters.scala:229)\n",
      "\tat org.apache.spark.sql.execution.arrow.ArrowConverters$.getBatchesFromStream(ArrowConverters.scala:228)\n",
      "\tat org.apache.spark.sql.execution.arrow.ArrowConverters$$anonfun$readArrowStreamFromFile$2.apply(ArrowConverters.scala:216)\n",
      "\tat org.apache.spark.sql.execution.arrow.ArrowConverters$$anonfun$readArrowStreamFromFile$2.apply(ArrowConverters.scala:214)\n",
      "\tat org.apache.spark.util.Utils$.tryWithResource(Utils.scala:2574)\n",
      "\tat org.apache.spark.sql.execution.arrow.ArrowConverters$.readArrowStreamFromFile(ArrowConverters.scala:214)\n",
      "\tat org.apache.spark.sql.api.python.PythonSQLUtils$.readArrowStreamFromFile(PythonSQLUtils.scala:46)\n",
      "\tat org.apache.spark.sql.api.python.PythonSQLUtils.readArrowStreamFromFile(PythonSQLUtils.scala)\n",
      "\tat sun.reflect.NativeMethodAccessorImpl.invoke0(Native Method)\n",
      "\tat sun.reflect.NativeMethodAccessorImpl.invoke(NativeMethodAccessorImpl.java:62)\n",
      "\tat sun.reflect.DelegatingMethodAccessorImpl.invoke(DelegatingMethodAccessorImpl.java:43)\n",
      "\tat java.lang.reflect.Method.invoke(Method.java:498)\n",
      "\tat py4j.reflection.MethodInvoker.invoke(MethodInvoker.java:244)\n",
      "\tat py4j.reflection.ReflectionEngine.invoke(ReflectionEngine.java:357)\n",
      "\tat py4j.Gateway.invoke(Gateway.java:282)\n",
      "\tat py4j.commands.AbstractCommand.invokeMethod(AbstractCommand.java:132)\n",
      "\tat py4j.commands.CallCommand.execute(CallCommand.java:79)\n",
      "\tat py4j.GatewayConnection.run(GatewayConnection.java:238)\n",
      "\tat java.lang.Thread.run(Thread.java:748)\n",
      "\n",
      "Attempting non-optimization as 'spark.sql.execution.arrow.fallback.enabled' is set to true.\n",
      "  warnings.warn(msg)\n"
     ]
    }
   ],
   "source": [
    "data = sqlCtx.createDataFrame(data_pandas).rdd"
   ]
  },
  {
   "cell_type": "code",
   "execution_count": 7,
   "metadata": {},
   "outputs": [
    {
     "data": {
      "text/plain": [
       "Row(Country='Albania', Year=1993, Max_Partners=75, GDP_per_unit_CO2=5.26484, PPP_Conv_Rate=19.912, PPP_Share_GDP=0.022, Imports_PC=0.0, Exports_PC=0.0, Govt_Revenue=-6.424, gdp_per_cap=1370.8300162470098, agri_perc_gdp=36.4107030664902, agg_empl_agri_perc=55.470001220703104, rural_pop_perc=62.201, pop_tot=3227287.0, mobilesub_per100peeps=0.0, intl_tourist_arrival=1062000.0, total_life_exp=71.86, life_expectancy_fe=75.039, life_exp_male=69.03699999999999, trade_perGDP=80.518332770413, gdp_per_cap_index=100.0, ISO_A3='ALB', cam='F101993', mean_light=0.2642690673125257, mean_light_diff=nan, mean_light_pct_diff=nan, mean_light_index=100.0)"
      ]
     },
     "execution_count": 7,
     "metadata": {},
     "output_type": "execute_result"
    }
   ],
   "source": [
    "data.first()"
   ]
  },
  {
   "cell_type": "code",
   "execution_count": 8,
   "metadata": {},
   "outputs": [],
   "source": [
    "# Split the data into training and test sets (30% held out for testing)\n",
    "df_train, df_test = data.randomSplit([0.75,0.25], 5242)"
   ]
  },
  {
   "cell_type": "markdown",
   "metadata": {},
   "source": [
    "### Model 1\n",
    "Linear regression with many predictors"
   ]
  },
  {
   "cell_type": "code",
   "execution_count": 9,
   "metadata": {},
   "outputs": [],
   "source": [
    "vecAssembler = VectorAssembler(inputCols=[\"GDP_per_unit_CO2\", \n",
    "                                          \"Imports_PC\", \n",
    "                                          \"Exports_PC\", \n",
    "                                          \"Govt_Revenue\",\n",
    "                                         \"agri_perc_gdp\",\n",
    "                                         \"mean_light\",\n",
    "                                         \"intl_tourist_arrival\",\n",
    "                                         \"mobilesub_per100peeps\",\n",
    "                                         \"total_life_exp\",\n",
    "                                         \"pop_tot\",\n",
    "                                         \"Year\"], \n",
    "                               outputCol=\"features\")"
   ]
  },
  {
   "cell_type": "code",
   "execution_count": 10,
   "metadata": {},
   "outputs": [
    {
     "name": "stdout",
     "output_type": "stream",
     "text": [
      "+------------------+------------------+--------------------+\n",
      "|        prediction|       gdp_per_cap|            features|\n",
      "+------------------+------------------+--------------------+\n",
      "| 3618.190015401924|1370.8300162470098|[5.26484,0.0,0.0,...|\n",
      "| 4099.429490585346|1703.2867473347305|[6.90542899999999...|\n",
      "|  6373.74568204931|  1835.65196486823|[7.673067,28.907,...|\n",
      "|2590.3402672579978|  2085.43199967837|[5.217429,38.743,...|\n",
      "| 4755.734628685517|  2244.63109245948|[5.288641,-3.432,...|\n",
      "+------------------+------------------+--------------------+\n",
      "only showing top 5 rows\n",
      "\n",
      "Root Mean Squared Error (RMSE) on test data = 14075.2\n",
      "LinearRegression_821eb5f6578d\n"
     ]
    }
   ],
   "source": [
    "# Train a linear regression model\n",
    "lr = LinearRegression(maxIter=10, regParam=0.3, elasticNetParam=0.8, labelCol=\"gdp_per_cap\", featuresCol=\"features\")\n",
    "\n",
    "# Chain indexer and forest in a Pipeline\n",
    "pipeline = Pipeline(stages=[vecAssembler, lr])\n",
    "                            \n",
    "# Train model.  This also runs the indexer.\n",
    "model = pipeline.fit(df_train.toDF())\n",
    "\n",
    "# Make predictions.\n",
    "predictions = model.transform(df_test.toDF())\n",
    "\n",
    "# Select example rows to display.\n",
    "predictions.select(\"prediction\", \"gdp_per_cap\", \"features\").show(5)\n",
    "                            \n",
    "# Select (prediction, true label) and compute test error\n",
    "evaluator = RegressionEvaluator(\n",
    "    labelCol=\"gdp_per_cap\", predictionCol=\"prediction\", metricName=\"rmse\")\n",
    "rmse = evaluator.evaluate(predictions)\n",
    "print(\"Root Mean Squared Error (RMSE) on test data = %g\" % rmse)\n",
    "\n",
    "lrModel = model.stages[1]\n",
    "print(lrModel)  # summary only"
   ]
  },
  {
   "cell_type": "markdown",
   "metadata": {},
   "source": [
    "### Model 2\n",
    "Linear regression with many predictors, indices used instead actual values for mean light and gdp per cap"
   ]
  },
  {
   "cell_type": "code",
   "execution_count": 11,
   "metadata": {},
   "outputs": [],
   "source": [
    "vecAssembler = VectorAssembler(inputCols=[\"GDP_per_unit_CO2\", \n",
    "                                          \"Imports_PC\", \n",
    "                                          \"Exports_PC\", \n",
    "                                          \"Govt_Revenue\",\n",
    "                                         \"agri_perc_gdp\",\n",
    "                                         \"mean_light_index\",\n",
    "                                         \"intl_tourist_arrival\",\n",
    "                                         \"mobilesub_per100peeps\",\n",
    "                                         \"total_life_exp\",\n",
    "                                         \"pop_tot\",\n",
    "                                         \"Year\"], \n",
    "                               outputCol=\"features\")"
   ]
  },
  {
   "cell_type": "code",
   "execution_count": 12,
   "metadata": {},
   "outputs": [
    {
     "name": "stdout",
     "output_type": "stream",
     "text": [
      "+------------------+-----------------+--------------------+\n",
      "|        prediction|gdp_per_cap_index|            features|\n",
      "+------------------+-----------------+--------------------+\n",
      "| 95.20914615334459|            100.0|[5.26484,0.0,0.0,...|\n",
      "|134.02972715941087| 124.252221438651|[6.90542899999999...|\n",
      "|129.79109202665404|133.9080661432981|[7.673067,28.907,...|\n",
      "|155.75952860158122|152.1291462079129|[5.217429,38.743,...|\n",
      "| 165.2711601517849|163.7424819894679|[5.288641,-3.432,...|\n",
      "+------------------+-----------------+--------------------+\n",
      "only showing top 5 rows\n",
      "\n",
      "Root Mean Squared Error (RMSE) on test data = 31.9452\n",
      "LinearRegression_2cc7afd88618\n"
     ]
    }
   ],
   "source": [
    "# Train a linear regression model\n",
    "lr = LinearRegression(maxIter=10, regParam=0.3, elasticNetParam=0.8, labelCol=\"gdp_per_cap_index\", featuresCol=\"features\")\n",
    "\n",
    "# Chain indexer and forest in a Pipeline\n",
    "pipeline = Pipeline(stages=[vecAssembler, lr])\n",
    "                            \n",
    "# Train model.  This also runs the indexer.\n",
    "model = pipeline.fit(df_train.toDF())\n",
    "\n",
    "# Make predictions.\n",
    "predictions = model.transform(df_test.toDF())\n",
    "\n",
    "# Select example rows to display.\n",
    "predictions.select(\"prediction\", \"gdp_per_cap_index\", \"features\").show(5)\n",
    "                            \n",
    "# Select (prediction, true label) and compute test error\n",
    "evaluator = RegressionEvaluator(\n",
    "    labelCol=\"gdp_per_cap_index\", predictionCol=\"prediction\", metricName=\"rmse\")\n",
    "rmse = evaluator.evaluate(predictions)\n",
    "print(\"Root Mean Squared Error (RMSE) on test data = %g\" % rmse)\n",
    "\n",
    "lrModel = model.stages[1]\n",
    "print(lrModel)  # summary only"
   ]
  },
  {
   "cell_type": "markdown",
   "metadata": {},
   "source": [
    "### Model 3\n",
    "Random Forest with many predictors"
   ]
  },
  {
   "cell_type": "code",
   "execution_count": 13,
   "metadata": {},
   "outputs": [],
   "source": [
    "vecAssembler = VectorAssembler(inputCols=[\"GDP_per_unit_CO2\", \n",
    "                                          \"Imports_PC\", \n",
    "                                          \"Exports_PC\", \n",
    "                                          \"Govt_Revenue\",\n",
    "                                         \"agri_perc_gdp\",\n",
    "                                         \"mean_light\",\n",
    "                                         \"intl_tourist_arrival\",\n",
    "                                         \"mobilesub_per100peeps\",\n",
    "                                         \"total_life_exp\",\n",
    "                                         \"pop_tot\",\n",
    "                                         \"Year\"], \n",
    "                               outputCol=\"features\")"
   ]
  },
  {
   "cell_type": "code",
   "execution_count": 14,
   "metadata": {},
   "outputs": [
    {
     "name": "stdout",
     "output_type": "stream",
     "text": [
      "+------------------+------------------+--------------------+\n",
      "|        prediction|       gdp_per_cap|            features|\n",
      "+------------------+------------------+--------------------+\n",
      "|2614.5381855651494|1370.8300162470098|[5.26484,0.0,0.0,...|\n",
      "| 3065.420300651952|1703.2867473347305|[6.90542899999999...|\n",
      "| 2863.158558048729|  1835.65196486823|[7.673067,28.907,...|\n",
      "|3215.9602658428526|  2085.43199967837|[5.217429,38.743,...|\n",
      "|3215.9602658428526|  2244.63109245948|[5.288641,-3.432,...|\n",
      "+------------------+------------------+--------------------+\n",
      "only showing top 5 rows\n",
      "\n",
      "Root Mean Squared Error (RMSE) on test data = 6220.35\n",
      "RandomForestRegressionModel (uid=RandomForestRegressor_f99d57853c9a) with 20 trees\n"
     ]
    }
   ],
   "source": [
    "# Train a RandomForest model\n",
    "rf = RandomForestRegressor(labelCol=\"gdp_per_cap\", featuresCol=\"features\")\n",
    "\n",
    "# Chain indexer and forest in a Pipeline\n",
    "pipeline = Pipeline(stages=[vecAssembler, rf])\n",
    "\n",
    "# Train model.  This also runs the indexer.\n",
    "model = pipeline.fit(df_train.toDF())\n",
    "\n",
    "# Make predictions.\n",
    "predictions = model.transform(df_test.toDF())\n",
    "\n",
    "# Select example rows to display.\n",
    "predictions.select(\"prediction\", \"gdp_per_cap\", \"features\").show(5)\n",
    "\n",
    "# Select (prediction, true label) and compute test error\n",
    "evaluator = RegressionEvaluator(\n",
    "    labelCol=\"gdp_per_cap\", predictionCol=\"prediction\", metricName=\"rmse\")\n",
    "rmse = evaluator.evaluate(predictions)\n",
    "print(\"Root Mean Squared Error (RMSE) on test data = %g\" % rmse)\n",
    "\n",
    "rfModel = model.stages[1]\n",
    "print(rfModel)  # summary only"
   ]
  },
  {
   "cell_type": "markdown",
   "metadata": {},
   "source": [
    "### Model 4\n",
    "Random Forest with many predictors, indices used instead actual values for mean light and gdp per cap"
   ]
  },
  {
   "cell_type": "code",
   "execution_count": 15,
   "metadata": {},
   "outputs": [],
   "source": [
    "vecAssembler = VectorAssembler(inputCols=[\"GDP_per_unit_CO2\", \n",
    "                                          \"Imports_PC\", \n",
    "                                          \"Exports_PC\", \n",
    "                                          \"Govt_Revenue\",\n",
    "                                         \"agri_perc_gdp\",\n",
    "                                         \"mean_light_index\",\n",
    "                                         \"intl_tourist_arrival\",\n",
    "                                         \"mobilesub_per100peeps\",\n",
    "                                         \"total_life_exp\",\n",
    "                                         \"pop_tot\",\n",
    "                                         \"Year\"], \n",
    "                               outputCol=\"features\")"
   ]
  },
  {
   "cell_type": "code",
   "execution_count": 16,
   "metadata": {},
   "outputs": [
    {
     "name": "stdout",
     "output_type": "stream",
     "text": [
      "+------------------+-----------------+--------------------+\n",
      "|        prediction|gdp_per_cap_index|            features|\n",
      "+------------------+-----------------+--------------------+\n",
      "| 104.4902253876747|            100.0|[5.26484,0.0,0.0,...|\n",
      "| 115.9352621486014| 124.252221438651|[6.90542899999999...|\n",
      "| 128.9266783166378|133.9080661432981|[7.673067,28.907,...|\n",
      "|131.85593891111242|152.1291462079129|[5.217429,38.743,...|\n",
      "|137.02851763172092|163.7424819894679|[5.288641,-3.432,...|\n",
      "+------------------+-----------------+--------------------+\n",
      "only showing top 5 rows\n",
      "\n",
      "Root Mean Squared Error (RMSE) on test data = 26.2329\n",
      "RandomForestRegressionModel (uid=RandomForestRegressor_6b64ffb79fad) with 20 trees\n"
     ]
    }
   ],
   "source": [
    "# Train a RandomForest model\n",
    "rf = RandomForestRegressor(labelCol=\"gdp_per_cap_index\", featuresCol=\"features\")\n",
    "\n",
    "# Chain indexer and forest in a Pipeline\n",
    "pipeline = Pipeline(stages=[vecAssembler, rf])\n",
    "\n",
    "# Train model.  This also runs the indexer.\n",
    "model = pipeline.fit(df_train.toDF())\n",
    "\n",
    "# Make predictions.\n",
    "predictions = model.transform(df_test.toDF())\n",
    "\n",
    "# Select example rows to display.\n",
    "predictions.select(\"prediction\", \"gdp_per_cap_index\", \"features\").show(5)\n",
    "\n",
    "# Select (prediction, true label) and compute test error\n",
    "evaluator = RegressionEvaluator(\n",
    "    labelCol=\"gdp_per_cap_index\", predictionCol=\"prediction\", metricName=\"rmse\")\n",
    "rmse = evaluator.evaluate(predictions)\n",
    "print(\"Root Mean Squared Error (RMSE) on test data = %g\" % rmse)\n",
    "\n",
    "rfModel = model.stages[1]\n",
    "print(rfModel)  # summary only"
   ]
  },
  {
   "cell_type": "markdown",
   "metadata": {},
   "source": [
    "### Model 5\n",
    "Linear regression with only mean light and year as predictors"
   ]
  },
  {
   "cell_type": "code",
   "execution_count": 17,
   "metadata": {},
   "outputs": [],
   "source": [
    "vecAssembler = VectorAssembler(inputCols=[\"mean_light\",\"Year\"], \n",
    "                               outputCol=\"features\")"
   ]
  },
  {
   "cell_type": "code",
   "execution_count": 18,
   "metadata": {},
   "outputs": [
    {
     "name": "stdout",
     "output_type": "stream",
     "text": [
      "+------------------+------------------+--------------------+\n",
      "|        prediction|       gdp_per_cap|            features|\n",
      "+------------------+------------------+--------------------+\n",
      "| 8271.037677164772|1370.8300162470098|[0.26426906731252...|\n",
      "|  9859.03266593418|1703.2867473347305|[1.25346159118950...|\n",
      "| 9886.627258715569|  1835.65196486823|[0.74560160855458...|\n",
      "|10425.093313362857|  2085.43199967837|[1.02403692363935...|\n",
      "|11542.121118358977|  2244.63109245948|[1.79189325046840...|\n",
      "+------------------+------------------+--------------------+\n",
      "only showing top 5 rows\n",
      "\n",
      "Root Mean Squared Error (RMSE) on test data = 18020.8\n",
      "LinearRegression_c55a9a314388\n"
     ]
    }
   ],
   "source": [
    "# Train a linear regression model\n",
    "lr = LinearRegression(maxIter=10, regParam=0.3, elasticNetParam=0.8, labelCol=\"gdp_per_cap\", featuresCol=\"features\")\n",
    "\n",
    "# Chain indexer and forest in a Pipeline\n",
    "pipeline = Pipeline(stages=[vecAssembler, lr])\n",
    "                            \n",
    "# Train model.  This also runs the indexer.\n",
    "model = pipeline.fit(df_train.toDF())\n",
    "\n",
    "# Make predictions.\n",
    "predictions = model.transform(df_test.toDF())\n",
    "\n",
    "# Select example rows to display.\n",
    "predictions.select(\"prediction\", \"gdp_per_cap\", \"features\").show(5)\n",
    "                            \n",
    "# Select (prediction, true label) and compute test error\n",
    "evaluator = RegressionEvaluator(\n",
    "    labelCol=\"gdp_per_cap\", predictionCol=\"prediction\", metricName=\"rmse\")\n",
    "rmse = evaluator.evaluate(predictions)\n",
    "print(\"Root Mean Squared Error (RMSE) on test data = %g\" % rmse)\n",
    "\n",
    "lrModel = model.stages[1]\n",
    "print(lrModel)  # summary only"
   ]
  },
  {
   "cell_type": "code",
   "execution_count": null,
   "metadata": {},
   "outputs": [],
   "source": [
    "trainingSummary = model.summary"
   ]
  },
  {
   "cell_type": "markdown",
   "metadata": {},
   "source": [
    "### Model 6\n",
    "Linear regression with only mean light index and year as predictors, gdp per cap index as target"
   ]
  },
  {
   "cell_type": "code",
   "execution_count": 19,
   "metadata": {},
   "outputs": [],
   "source": [
    "vecAssembler = VectorAssembler(inputCols=[\"mean_light_index\",\"Year\"], \n",
    "                               outputCol=\"features\")"
   ]
  },
  {
   "cell_type": "code",
   "execution_count": 20,
   "metadata": {},
   "outputs": [
    {
     "name": "stdout",
     "output_type": "stream",
     "text": [
      "+------------------+-----------------+--------------------+\n",
      "|        prediction|gdp_per_cap_index|            features|\n",
      "+------------------+-----------------+--------------------+\n",
      "|  93.3009336179166|            100.0|      [100.0,1993.0]|\n",
      "| 134.4514533017482| 124.252221438651|[474.312640498011...|\n",
      "|126.88314105815971|133.9080661432981|[282.137298979768...|\n",
      "|139.93765892714055|152.1291462079129|[387.497838492132...|\n",
      "| 170.0202718291821|163.7424819894679|[678.056372125194...|\n",
      "+------------------+-----------------+--------------------+\n",
      "only showing top 5 rows\n",
      "\n",
      "Root Mean Squared Error (RMSE) on test data = 32.7086\n",
      "LinearRegression_615a1cd1a5dc\n"
     ]
    }
   ],
   "source": [
    "# Train a linear regression model\n",
    "lr = LinearRegression(maxIter=10, regParam=0.3, elasticNetParam=0.8, labelCol=\"gdp_per_cap_index\", featuresCol=\"features\")\n",
    "\n",
    "# Chain indexer and forest in a Pipeline\n",
    "pipeline = Pipeline(stages=[vecAssembler, lr])\n",
    "                            \n",
    "# Train model.  This also runs the indexer.\n",
    "model = pipeline.fit(df_train.toDF())\n",
    "\n",
    "# Make predictions.\n",
    "predictions = model.transform(df_test.toDF())\n",
    "\n",
    "# Select example rows to display.\n",
    "predictions.select(\"prediction\", \"gdp_per_cap_index\", \"features\").show(5)\n",
    "                            \n",
    "# Select (prediction, true label) and compute test error\n",
    "evaluator = RegressionEvaluator(\n",
    "    labelCol=\"gdp_per_cap_index\", predictionCol=\"prediction\", metricName=\"rmse\")\n",
    "rmse = evaluator.evaluate(predictions)\n",
    "print(\"Root Mean Squared Error (RMSE) on test data = %g\" % rmse)\n",
    "\n",
    "lrModel = model.stages[1]\n",
    "print(lrModel)  # summary only"
   ]
  },
  {
   "cell_type": "markdown",
   "metadata": {},
   "source": [
    "### Model 7\n",
    "Random Forest with only mean light and year as predictors"
   ]
  },
  {
   "cell_type": "code",
   "execution_count": 21,
   "metadata": {},
   "outputs": [],
   "source": [
    "vecAssembler = VectorAssembler(inputCols=[\"mean_light\",\"Year\"], \n",
    "                               outputCol=\"features\")"
   ]
  },
  {
   "cell_type": "code",
   "execution_count": 22,
   "metadata": {},
   "outputs": [
    {
     "name": "stdout",
     "output_type": "stream",
     "text": [
      "+-----------------+------------------+--------------------+\n",
      "|       prediction|       gdp_per_cap|            features|\n",
      "+-----------------+------------------+--------------------+\n",
      "|6248.330717664234|1370.8300162470098|[0.26426906731252...|\n",
      "|7269.697413816684|1703.2867473347305|[1.25346159118950...|\n",
      "|8397.220859717576|  1835.65196486823|[0.74560160855458...|\n",
      "|7983.565311745966|  2085.43199967837|[1.02403692363935...|\n",
      "| 8478.69258454948|  2244.63109245948|[1.79189325046840...|\n",
      "+-----------------+------------------+--------------------+\n",
      "only showing top 5 rows\n",
      "\n",
      "Root Mean Squared Error (RMSE) on test data = 16848.6\n",
      "RandomForestRegressionModel (uid=RandomForestRegressor_aa2cf68cf711) with 20 trees\n"
     ]
    }
   ],
   "source": [
    "# Train a RandomForest model\n",
    "rf = RandomForestRegressor(labelCol=\"gdp_per_cap\", featuresCol=\"features\")\n",
    "\n",
    "# Chain indexer and forest in a Pipeline\n",
    "pipeline = Pipeline(stages=[vecAssembler, rf])\n",
    "\n",
    "# Train model.  This also runs the indexer.\n",
    "model = pipeline.fit(df_train.toDF())\n",
    "\n",
    "# Make predictions.\n",
    "predictions = model.transform(df_test.toDF())\n",
    "\n",
    "# Select example rows to display.\n",
    "predictions.select(\"prediction\", \"gdp_per_cap\", \"features\").show(5)\n",
    "\n",
    "# Select (prediction, true label) and compute test error\n",
    "evaluator = RegressionEvaluator(\n",
    "    labelCol=\"gdp_per_cap\", predictionCol=\"prediction\", metricName=\"rmse\")\n",
    "rmse = evaluator.evaluate(predictions)\n",
    "print(\"Root Mean Squared Error (RMSE) on test data = %g\" % rmse)\n",
    "\n",
    "rfModel = model.stages[1]\n",
    "print(rfModel)  # summary only"
   ]
  },
  {
   "cell_type": "markdown",
   "metadata": {},
   "source": [
    "### Model 8\n",
    "Random Forest with only mean light index and year as predictors, gdp per cap index as target"
   ]
  },
  {
   "cell_type": "code",
   "execution_count": 23,
   "metadata": {},
   "outputs": [],
   "source": [
    "vecAssembler = VectorAssembler(inputCols=[\"mean_light_index\",\"Year\"], \n",
    "                               outputCol=\"features\")"
   ]
  },
  {
   "cell_type": "code",
   "execution_count": 24,
   "metadata": {},
   "outputs": [
    {
     "name": "stdout",
     "output_type": "stream",
     "text": [
      "+------------------+-----------------+--------------------+\n",
      "|        prediction|gdp_per_cap_index|            features|\n",
      "+------------------+-----------------+--------------------+\n",
      "| 100.2450916792021|            100.0|      [100.0,1993.0]|\n",
      "|129.21780460336925| 124.252221438651|[474.312640498011...|\n",
      "|116.79302797221314|133.9080661432981|[282.137298979768...|\n",
      "|133.21226186625523|152.1291462079129|[387.497838492132...|\n",
      "|138.57887843029985|163.7424819894679|[678.056372125194...|\n",
      "+------------------+-----------------+--------------------+\n",
      "only showing top 5 rows\n",
      "\n",
      "Root Mean Squared Error (RMSE) on test data = 34.3643\n",
      "RandomForestRegressionModel (uid=RandomForestRegressor_25d090f21c8e) with 20 trees\n"
     ]
    }
   ],
   "source": [
    "# Train a RandomForest model\n",
    "rf = RandomForestRegressor(labelCol=\"gdp_per_cap_index\", featuresCol=\"features\")\n",
    "\n",
    "# Chain indexer and forest in a Pipeline\n",
    "pipeline = Pipeline(stages=[vecAssembler, rf])\n",
    "\n",
    "# Train model.  This also runs the indexer.\n",
    "model = pipeline.fit(df_train.toDF())\n",
    "\n",
    "# Make predictions.\n",
    "predictions = model.transform(df_test.toDF())\n",
    "\n",
    "# Select example rows to display.\n",
    "predictions.select(\"prediction\", \"gdp_per_cap_index\", \"features\").show(5)\n",
    "\n",
    "# Select (prediction, true label) and compute test error\n",
    "evaluator = RegressionEvaluator(\n",
    "    labelCol=\"gdp_per_cap_index\", predictionCol=\"prediction\", metricName=\"rmse\")\n",
    "rmse = evaluator.evaluate(predictions)\n",
    "print(\"Root Mean Squared Error (RMSE) on test data = %g\" % rmse)\n",
    "\n",
    "rfModel = model.stages[1]\n",
    "print(rfModel)  # summary only"
   ]
  },
  {
   "cell_type": "markdown",
   "metadata": {},
   "source": [
    "### Model 9\n",
    "GBM with only mean light and year as predictors"
   ]
  },
  {
   "cell_type": "code",
   "execution_count": 25,
   "metadata": {},
   "outputs": [],
   "source": [
    "vecAssembler = VectorAssembler(inputCols=[\"mean_light\",\"Year\"], \n",
    "                               outputCol=\"features\")"
   ]
  },
  {
   "cell_type": "code",
   "execution_count": 26,
   "metadata": {},
   "outputs": [
    {
     "name": "stdout",
     "output_type": "stream",
     "text": [
      "+-----------------+------------------+--------------------+\n",
      "|       prediction|       gdp_per_cap|            features|\n",
      "+-----------------+------------------+--------------------+\n",
      "|6489.928962321381|1370.8300162470098|[0.26426906731252...|\n",
      "|6444.777231577415|1703.2867473347305|[1.25346159118950...|\n",
      "|9354.440305248701|  1835.65196486823|[0.74560160855458...|\n",
      "|5646.446407801378|  2085.43199967837|[1.02403692363935...|\n",
      "|5804.858576409009|  2244.63109245948|[1.79189325046840...|\n",
      "+-----------------+------------------+--------------------+\n",
      "only showing top 5 rows\n",
      "\n",
      "Root Mean Squared Error (RMSE) on test data = 17463\n",
      "GBTRegressionModel (uid=GBTRegressor_6be07f46e910) with 20 trees\n"
     ]
    }
   ],
   "source": [
    "# Train a GBT model\n",
    "gbt = GBTRegressor(labelCol=\"gdp_per_cap\", featuresCol=\"features\", maxIter=20)\n",
    "\n",
    "# Chain indexer and GBT in a Pipeline\n",
    "pipeline = Pipeline(stages=[vecAssembler, gbt])\n",
    "\n",
    "# Train model.  This also runs the indexer.\n",
    "model = pipeline.fit(df_train.toDF())\n",
    "\n",
    "# Make predictions.\n",
    "predictions = model.transform(df_test.toDF())\n",
    "\n",
    "# Select example rows to display.\n",
    "predictions.select(\"prediction\", \"gdp_per_cap\", \"features\").show(5)\n",
    "\n",
    "# Select (prediction, true label) and compute test error\n",
    "evaluator = RegressionEvaluator(\n",
    "    labelCol=\"gdp_per_cap\", predictionCol=\"prediction\", metricName=\"rmse\")\n",
    "rmse = evaluator.evaluate(predictions)\n",
    "print(\"Root Mean Squared Error (RMSE) on test data = %g\" % rmse)\n",
    "\n",
    "gbtModel = model.stages[1]\n",
    "print(gbtModel)  # summary only"
   ]
  },
  {
   "cell_type": "markdown",
   "metadata": {},
   "source": [
    "### Model 10\n",
    "GBM with only mean light index and year as predictors, gdp per cap index as target"
   ]
  },
  {
   "cell_type": "code",
   "execution_count": 27,
   "metadata": {},
   "outputs": [],
   "source": [
    "vecAssembler = VectorAssembler(inputCols=[\"mean_light_index\",\"Year\"], \n",
    "                               outputCol=\"features\")"
   ]
  },
  {
   "cell_type": "code",
   "execution_count": 28,
   "metadata": {},
   "outputs": [
    {
     "name": "stdout",
     "output_type": "stream",
     "text": [
      "+------------------+-----------------+--------------------+\n",
      "|        prediction|gdp_per_cap_index|            features|\n",
      "+------------------+-----------------+--------------------+\n",
      "| 99.73519742258641|            100.0|      [100.0,1993.0]|\n",
      "| 124.3592962939223| 124.252221438651|[474.312640498011...|\n",
      "|108.79764880446149|133.9080661432981|[282.137298979768...|\n",
      "|133.64055745965015|152.1291462079129|[387.497838492132...|\n",
      "|139.17485094823215|163.7424819894679|[678.056372125194...|\n",
      "+------------------+-----------------+--------------------+\n",
      "only showing top 5 rows\n",
      "\n",
      "Root Mean Squared Error (RMSE) on test data = 39.6207\n",
      "GBTRegressionModel (uid=GBTRegressor_e7916044ff68) with 20 trees\n"
     ]
    }
   ],
   "source": [
    "# Train a GBT model\n",
    "gbt = GBTRegressor(labelCol=\"gdp_per_cap_index\", featuresCol=\"features\", maxIter=20)\n",
    "\n",
    "# Chain indexer and GBT in a Pipeline\n",
    "pipeline = Pipeline(stages=[vecAssembler, gbt])\n",
    "\n",
    "# Train model.  This also runs the indexer.\n",
    "model = pipeline.fit(df_train.toDF())\n",
    "\n",
    "# Make predictions.\n",
    "predictions = model.transform(df_test.toDF())\n",
    "\n",
    "# Select example rows to display.\n",
    "predictions.select(\"prediction\", \"gdp_per_cap_index\", \"features\").show(5)\n",
    "\n",
    "# Select (prediction, true label) and compute test error\n",
    "evaluator = RegressionEvaluator(\n",
    "    labelCol=\"gdp_per_cap_index\", predictionCol=\"prediction\", metricName=\"rmse\")\n",
    "rmse = evaluator.evaluate(predictions)\n",
    "print(\"Root Mean Squared Error (RMSE) on test data = %g\" % rmse)\n",
    "\n",
    "gbtModel = model.stages[1]\n",
    "print(gbtModel)  # summary only"
   ]
  }
 ],
 "metadata": {
  "kernelspec": {
   "display_name": "Python 3",
   "language": "python",
   "name": "python3"
  },
  "language_info": {
   "codemirror_mode": {
    "name": "ipython",
    "version": 3
   },
   "file_extension": ".py",
   "mimetype": "text/x-python",
   "name": "python",
   "nbconvert_exporter": "python",
   "pygments_lexer": "ipython3",
   "version": "3.7.3"
  }
 },
 "nbformat": 4,
 "nbformat_minor": 4
}
