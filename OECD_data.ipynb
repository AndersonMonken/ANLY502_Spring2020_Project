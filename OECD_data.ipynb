{
 "cells": [
  {
   "cell_type": "markdown",
   "metadata": {},
   "source": [
    "# Getting Data from OECD\n"
   ]
  },
  {
   "cell_type": "code",
   "execution_count": 1,
   "metadata": {},
   "outputs": [
    {
     "name": "stderr",
     "output_type": "stream",
     "text": [
      "C:\\Users\\nicol\\Anaconda3\\lib\\site-packages\\pandas_datareader\\compat\\__init__.py:9: FutureWarning: pandas.util.testing is deprecated. Use the functions in the public API at pandas.testing instead.\n",
      "  from pandas.util.testing import assert_frame_equal\n"
     ]
    }
   ],
   "source": [
    "import pandas_datareader.data as web\n",
    "import pandas as pd"
   ]
  },
  {
   "cell_type": "markdown",
   "metadata": {},
   "source": [
    "### Gross Domestic Expenditure on R&D (GERD) as percentage of GDP"
   ]
  },
  {
   "cell_type": "code",
   "execution_count": 2,
   "metadata": {},
   "outputs": [],
   "source": [
    "GERD_reader = web.DataReader('MSTI_PUB', 'oecd', start=1992, end=2017)"
   ]
  },
  {
   "cell_type": "code",
   "execution_count": 3,
   "metadata": {},
   "outputs": [
    {
     "data": {
      "text/html": [
       "<div>\n",
       "<style scoped>\n",
       "    .dataframe tbody tr th:only-of-type {\n",
       "        vertical-align: middle;\n",
       "    }\n",
       "\n",
       "    .dataframe tbody tr th {\n",
       "        vertical-align: top;\n",
       "    }\n",
       "\n",
       "    .dataframe thead th {\n",
       "        text-align: right;\n",
       "    }\n",
       "</style>\n",
       "<table border=\"1\" class=\"dataframe\">\n",
       "  <thead>\n",
       "    <tr style=\"text-align: right;\">\n",
       "      <th></th>\n",
       "      <th>Year</th>\n",
       "      <th>Country</th>\n",
       "      <th>Percent_GDP_on_RD</th>\n",
       "    </tr>\n",
       "  </thead>\n",
       "  <tbody>\n",
       "    <tr>\n",
       "      <th>0</th>\n",
       "      <td>1992-01-01</td>\n",
       "      <td>Argentina</td>\n",
       "      <td>0.359716</td>\n",
       "    </tr>\n",
       "    <tr>\n",
       "      <th>1</th>\n",
       "      <td>1993-01-01</td>\n",
       "      <td>Argentina</td>\n",
       "      <td>0.403760</td>\n",
       "    </tr>\n",
       "    <tr>\n",
       "      <th>2</th>\n",
       "      <td>1994-01-01</td>\n",
       "      <td>Argentina</td>\n",
       "      <td>0.452155</td>\n",
       "    </tr>\n",
       "    <tr>\n",
       "      <th>3</th>\n",
       "      <td>1995-01-01</td>\n",
       "      <td>Argentina</td>\n",
       "      <td>0.470545</td>\n",
       "    </tr>\n",
       "    <tr>\n",
       "      <th>4</th>\n",
       "      <td>1996-01-01</td>\n",
       "      <td>Argentina</td>\n",
       "      <td>0.564050</td>\n",
       "    </tr>\n",
       "  </tbody>\n",
       "</table>\n",
       "</div>"
      ],
      "text/plain": [
       "        Year    Country  Percent_GDP_on_RD\n",
       "0 1992-01-01  Argentina           0.359716\n",
       "1 1993-01-01  Argentina           0.403760\n",
       "2 1994-01-01  Argentina           0.452155\n",
       "3 1995-01-01  Argentina           0.470545\n",
       "4 1996-01-01  Argentina           0.564050"
      ]
     },
     "execution_count": 3,
     "metadata": {},
     "output_type": "execute_result"
    }
   ],
   "source": [
    "GERDdf = GERD_reader['GERD as a percentage of GDP']\n",
    "\n",
    "# Need to change from separate columns for each country to repeated rows\n",
    "# and a column for the percent value\n",
    "GERDdf = GERDdf.stack().to_frame()\n",
    "GERDdf.reset_index(inplace=True)\n",
    "GERDdf.sort_values(['Country', 'Year'], inplace=True)\n",
    "GERDdf.reset_index(drop=True, inplace=True)\n",
    "GERDdf.rename({0:'Percent_GDP_on_RD'}, axis=1, inplace=True)\n",
    "\n",
    "GERDdf.head()"
   ]
  },
  {
   "cell_type": "markdown",
   "metadata": {},
   "source": [
    "### Percent of Population with Health Insurance (Public or Private)"
   ]
  },
  {
   "cell_type": "code",
   "execution_count": 4,
   "metadata": {},
   "outputs": [],
   "source": [
    "HI_reader = web.DataReader('HEALTH_PROT', 'oecd', start=1992, end=2017)"
   ]
  },
  {
   "cell_type": "code",
   "execution_count": 5,
   "metadata": {},
   "outputs": [
    {
     "data": {
      "text/html": [
       "<div>\n",
       "<style scoped>\n",
       "    .dataframe tbody tr th:only-of-type {\n",
       "        vertical-align: middle;\n",
       "    }\n",
       "\n",
       "    .dataframe tbody tr th {\n",
       "        vertical-align: top;\n",
       "    }\n",
       "\n",
       "    .dataframe thead th {\n",
       "        text-align: right;\n",
       "    }\n",
       "</style>\n",
       "<table border=\"1\" class=\"dataframe\">\n",
       "  <thead>\n",
       "    <tr style=\"text-align: right;\">\n",
       "      <th></th>\n",
       "      <th>Year</th>\n",
       "      <th>Country</th>\n",
       "      <th>Percent_Pop_HI</th>\n",
       "    </tr>\n",
       "  </thead>\n",
       "  <tbody>\n",
       "    <tr>\n",
       "      <th>0</th>\n",
       "      <td>1992-01-01</td>\n",
       "      <td>Australia</td>\n",
       "      <td>100.0</td>\n",
       "    </tr>\n",
       "    <tr>\n",
       "      <th>1</th>\n",
       "      <td>1993-01-01</td>\n",
       "      <td>Australia</td>\n",
       "      <td>100.0</td>\n",
       "    </tr>\n",
       "    <tr>\n",
       "      <th>2</th>\n",
       "      <td>1994-01-01</td>\n",
       "      <td>Australia</td>\n",
       "      <td>100.0</td>\n",
       "    </tr>\n",
       "    <tr>\n",
       "      <th>3</th>\n",
       "      <td>1995-01-01</td>\n",
       "      <td>Australia</td>\n",
       "      <td>100.0</td>\n",
       "    </tr>\n",
       "    <tr>\n",
       "      <th>4</th>\n",
       "      <td>1996-01-01</td>\n",
       "      <td>Australia</td>\n",
       "      <td>100.0</td>\n",
       "    </tr>\n",
       "  </tbody>\n",
       "</table>\n",
       "</div>"
      ],
      "text/plain": [
       "        Year    Country  Percent_Pop_HI\n",
       "0 1992-01-01  Australia           100.0\n",
       "1 1993-01-01  Australia           100.0\n",
       "2 1994-01-01  Australia           100.0\n",
       "3 1995-01-01  Australia           100.0\n",
       "4 1996-01-01  Australia           100.0"
      ]
     },
     "execution_count": 5,
     "metadata": {},
     "output_type": "execute_result"
    }
   ],
   "source": [
    "HIdf = HI_reader['Total public and primary private health insurance']['% of total population covered']\n",
    "\n",
    "# Need to change from separate columns for each country to repeated rows\n",
    "# and a column for the percent value\n",
    "HIdf = HIdf.stack().to_frame()\n",
    "HIdf.reset_index(inplace=True)\n",
    "HIdf.sort_values(['Country', 'Year'], inplace=True)\n",
    "HIdf.reset_index(drop=True, inplace=True)\n",
    "HIdf.rename({0:'Percent_Pop_HI'}, axis=1, inplace=True)\n",
    "\n",
    "HIdf.head()"
   ]
  },
  {
   "cell_type": "markdown",
   "metadata": {},
   "source": [
    "### Production-based CO2 productivity, GDP per unit of energy-related CO2 emissions"
   ]
  },
  {
   "cell_type": "code",
   "execution_count": 6,
   "metadata": {},
   "outputs": [],
   "source": [
    "CO2_reader = web.DataReader('GREEN_GROWTH', 'oecd', start=1992, end=2017)"
   ]
  },
  {
   "cell_type": "code",
   "execution_count": 7,
   "metadata": {},
   "outputs": [
    {
     "data": {
      "text/html": [
       "<div>\n",
       "<style scoped>\n",
       "    .dataframe tbody tr th:only-of-type {\n",
       "        vertical-align: middle;\n",
       "    }\n",
       "\n",
       "    .dataframe tbody tr th {\n",
       "        vertical-align: top;\n",
       "    }\n",
       "\n",
       "    .dataframe thead th {\n",
       "        text-align: right;\n",
       "    }\n",
       "</style>\n",
       "<table border=\"1\" class=\"dataframe\">\n",
       "  <thead>\n",
       "    <tr style=\"text-align: right;\">\n",
       "      <th></th>\n",
       "      <th>Year</th>\n",
       "      <th>Country</th>\n",
       "      <th>GDP_per_unit_CO2</th>\n",
       "    </tr>\n",
       "  </thead>\n",
       "  <tbody>\n",
       "    <tr>\n",
       "      <th>0</th>\n",
       "      <td>1992-01-01</td>\n",
       "      <td>Albania</td>\n",
       "      <td>4.443426</td>\n",
       "    </tr>\n",
       "    <tr>\n",
       "      <th>1</th>\n",
       "      <td>1993-01-01</td>\n",
       "      <td>Albania</td>\n",
       "      <td>5.264840</td>\n",
       "    </tr>\n",
       "    <tr>\n",
       "      <th>2</th>\n",
       "      <td>1994-01-01</td>\n",
       "      <td>Albania</td>\n",
       "      <td>5.542105</td>\n",
       "    </tr>\n",
       "    <tr>\n",
       "      <th>3</th>\n",
       "      <td>1995-01-01</td>\n",
       "      <td>Albania</td>\n",
       "      <td>6.905429</td>\n",
       "    </tr>\n",
       "    <tr>\n",
       "      <th>4</th>\n",
       "      <td>1996-01-01</td>\n",
       "      <td>Albania</td>\n",
       "      <td>7.477210</td>\n",
       "    </tr>\n",
       "  </tbody>\n",
       "</table>\n",
       "</div>"
      ],
      "text/plain": [
       "        Year  Country  GDP_per_unit_CO2\n",
       "0 1992-01-01  Albania          4.443426\n",
       "1 1993-01-01  Albania          5.264840\n",
       "2 1994-01-01  Albania          5.542105\n",
       "3 1995-01-01  Albania          6.905429\n",
       "4 1996-01-01  Albania          7.477210"
      ]
     },
     "execution_count": 7,
     "metadata": {},
     "output_type": "execute_result"
    }
   ],
   "source": [
    "# This one is different because each country had a separate table\n",
    "# instead of all being a column in one table. Below is the code that\n",
    "# combines all of the tables into one dataframe.\n",
    "\n",
    "\n",
    "# Initializing empty dataframe\n",
    "CO2df = pd.DataFrame(columns=['Year', 'Country', 'GDP_per_unit_CO2'])\n",
    "\n",
    "# CO2_reader has a multi-index. The country is the first entry of each,\n",
    "# so the following code pulls out the country names and set() gets rid of duplicates.\n",
    "countries = set(CO2_reader.columns.get_level_values(0))\n",
    "countries = sorted(list(countries))\n",
    "\n",
    "# This for loop gets the particular data we are interested in for \n",
    "# each country and then adds that to the master dataframe:\n",
    "for country in countries:\n",
    "    Cseries = CO2_reader[country]['Production-based CO2 productivity, GDP per unit of energy-related CO2 emissions']\n",
    "    Cdf = Cseries.to_frame()\n",
    "    Cdf.reset_index(inplace=True)\n",
    "    Cdf.rename({'Production-based CO2 productivity, GDP per unit of energy-related CO2 emissions':'GDP_per_unit_CO2'},\n",
    "                 axis=1, inplace=True) \n",
    "    Cdf.insert(1, 'Country', country)\n",
    "    CO2df = pd.concat([CO2df, Cdf], axis=0)\n",
    "\n",
    "\n",
    "# Countries (and some groups) that are missing all or some of the years:\n",
    "# ASEAN, Afghanistan, American Samoa, Andorra, Anguilla, Antartica, Antigua and Barbuda,\n",
    "# Aruba, Bahamas, Barbados, Belize, Bermuda, Bhutan, Burkina Faso, Burundi, Cabo Verde,\n",
    "# Cambodia (92-94), Central African Republic, Chad, Djibouti, Equatorial Guinea, Eswatini,\n",
    "# Euro area (19 countries) (92-94), Fiji, Gambia, Guinea, Kiribati, Lao People's Democratic Republic,\n",
    "# Latin America and Caribbean, Lesotho, Liberia, Liechtenstein, Madagascar, Malawi, Maldives, Mali,\n",
    "# Martinique, Mauritania, Mayotte, Micronesia, Middle East and North Africa, Monaco, Montenegro (92-2004),\n",
    "# Montserrat, Nauru, Niger (92-99), Palau, Papua New Guinea, Puerto Rico, Rwanda, Samoa, San Marino,\n",
    "# Sao Tome and Principe, Seychelles, Sierra Leone, Solomon Islands, Somalia, Suriname (92-99), Tokelau,\n",
    "# Tonga, Turks and Caicos Islands, Tuvalu, Uganda, Vanuatu\n",
    "# Removing those:\n",
    "CO2df.dropna(inplace=True)\n",
    "CO2df.reset_index(drop=True, inplace=True)\n",
    "\n",
    "\n",
    "CO2df.head()"
   ]
  },
  {
   "cell_type": "markdown",
   "metadata": {},
   "source": [
    "### Merging Data Together"
   ]
  },
  {
   "cell_type": "code",
   "execution_count": 10,
   "metadata": {},
   "outputs": [],
   "source": [
    "merge1 = pd.merge(left=GERDdf, right=HIdf, how='outer',\n",
    "                       left_on=['Country', 'Year'], right_on=['Country', 'Year'])\n",
    "merged = pd.merge(left=merge1, right=CO2df, how='outer',\n",
    "                       left_on=['Country', 'Year'], right_on=['Country', 'Year'])\n",
    "merged.sort_values(['Country', 'Year'], inplace=True)\n",
    "merged.reset_index(drop=True, inplace=True)"
   ]
  },
  {
   "cell_type": "markdown",
   "metadata": {},
   "source": [
    "### Fixing Country Names"
   ]
  },
  {
   "cell_type": "code",
   "execution_count": 11,
   "metadata": {},
   "outputs": [],
   "source": [
    "import pycountry\n",
    "# Official/Up-to-date Country Names\n",
    "pycountries = [country.name for country in pycountry.countries]\n",
    "\n",
    "# Country names that appear in OECD data\n",
    "mergedcountries = sorted(list(set(merged.iloc[:,1])))\n",
    "\n",
    "# Making csv for me to see what needs to be changed\n",
    "Same = sorted(list(set(mergedcountries).intersection(set(pycountries))))\n",
    "Merged_Only = sorted(list(set(mergedcountries) - set(pycountries)))\n",
    "Py_Only = sorted(list(set(pycountries) - set(mergedcountries)))\n",
    "comparisondf = pd.DataFrame({'Same': pd.Series(Same),\n",
    "                             'Merged_Only': pd.Series(Merged_Only),\n",
    "                             'Py_Only': pd.Series(Py_Only)})\n",
    "# comparisondf.to_csv('comp.csv')"
   ]
  },
  {
   "cell_type": "code",
   "execution_count": 12,
   "metadata": {},
   "outputs": [],
   "source": [
    "# OECD has some groups of countries that I will remove\n",
    "remove = ['ASEAN', 'BRIICS economies - Brazil, Russia, India, Indonesia, China and South Africa',\n",
    "         'Eastern Europe, Caucasus and Central Asia', 'Euro area (19 countries)',\n",
    "         'European Union (15 countries)', 'European Union (28 countries)',\n",
    "         'G20', 'G7', 'Latin America and Caribbean', 'Middle East and North Africa',\n",
    "         'OECD - Europe', 'OECD - Total', 'OECD America', 'OECD Asia Oceania', 'World']\n",
    "\n",
    "merged2 = merged[~merged.Country.isin(remove)]"
   ]
  },
  {
   "cell_type": "code",
   "execution_count": 13,
   "metadata": {},
   "outputs": [],
   "source": [
    "# Other country names need to be updated to match current official names\n",
    "update_dic = {'Bolivia':'Bolivia, Plurinational State of',\n",
    "              \"China (People's Republic of)\":'China',\n",
    "              'Chinese Taipei':'Taiwan, Province of China',\n",
    "              'Czech Republic':'Czechia',\n",
    "              'Democratic Republic of the Congo':'Congo, The Democratic Republic of the',\n",
    "              'Iran':'Iran, Islamic Republic of',\n",
    "              'Korea':'Korea, Republic of',\n",
    "              'Micronesia':'Micronesia, Federated States of',\n",
    "              'Moldova':'Moldova, Republic of',\n",
    "              'Russia':'Russian Federation',\n",
    "              'Slovak Republic':'Slovakia',\n",
    "              'Tanzania':'Tanzania, United Republic of',\n",
    "              'Venezuela':'Venezuela, Bolivarian Republic of'}\n",
    "merged3 = merged2.replace({\"Country\": update_dic})"
   ]
  },
  {
   "cell_type": "code",
   "execution_count": 15,
   "metadata": {},
   "outputs": [],
   "source": [
    "# Checking that it worked\n",
    "mergedcountries = sorted(list(set(merged3.iloc[:,1])))\n",
    "Same = sorted(list(set(mergedcountries).intersection(set(pycountries))))\n",
    "Merged_Only = sorted(list(set(mergedcountries) - set(pycountries)))\n",
    "Py_Only = sorted(list(set(pycountries) - set(mergedcountries)))\n",
    "comparisondf2 = pd.DataFrame({'Same': pd.Series(Same),\n",
    "                             'Merged_Only': pd.Series(Merged_Only, dtype='float64'),\n",
    "                             'Py_Only': pd.Series(Py_Only)})\n",
    "# comparisondf2.to_csv('comp2.csv')\n",
    "# All good, except there are pycountries not in the OECD data"
   ]
  },
  {
   "cell_type": "code",
   "execution_count": null,
   "metadata": {},
   "outputs": [],
   "source": []
  }
 ],
 "metadata": {
  "kernelspec": {
   "display_name": "Python 3",
   "language": "python",
   "name": "python3"
  },
  "language_info": {
   "codemirror_mode": {
    "name": "ipython",
    "version": 3
   },
   "file_extension": ".py",
   "mimetype": "text/x-python",
   "name": "python",
   "nbconvert_exporter": "python",
   "pygments_lexer": "ipython3",
   "version": "3.7.3"
  }
 },
 "nbformat": 4,
 "nbformat_minor": 4
}
